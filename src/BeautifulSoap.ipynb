{
 "cells": [
  {
   "cell_type": "markdown",
   "metadata": {},
   "source": [
    "## Web Scraping com BeautifulSoap \n",
    "\n",
    "### O que é ?\n",
    "\n",
    "Biblioteca em python voltada a parsear documentos HTML e XML\n",
    "\n",
    "### Como utilizar ?\n",
    "pip install beautifulsoap"
   ]
  },
  {
   "cell_type": "code",
   "execution_count": 9,
   "metadata": {},
   "outputs": [
    {
     "name": "stdout",
     "output_type": "stream",
     "text": [
      "Requirement already satisfied: beautifulsoup4 in c:\\users\\meloy\\appdata\\local\\programs\\python\\python311\\lib\\site-packages (4.12.2)\n",
      "Requirement already satisfied: soupsieve>1.2 in c:\\users\\meloy\\appdata\\local\\programs\\python\\python311\\lib\\site-packages (from beautifulsoup4) (2.5)\n",
      "Note: you may need to restart the kernel to use updated packages.\n"
     ]
    }
   ],
   "source": [
    "#instalando a biblioteca\n",
    "%pip install beautifulsoup4\n"
   ]
  },
  {
   "cell_type": "code",
   "execution_count": 8,
   "metadata": {},
   "outputs": [],
   "source": [
    "#importando para o notebook\n",
    "from bs4 import BeautifulSoup"
   ]
  },
  {
   "cell_type": "markdown",
   "metadata": {},
   "source": [
    "### Quando utilizar ?\n",
    "- Localizar\n",
    "- Manipular \n",
    "- Extrair"
   ]
  },
  {
   "cell_type": "code",
   "execution_count": 19,
   "metadata": {},
   "outputs": [],
   "source": [
    "html = \"\"\"<!DOCTYPE html>\n",
    "<html lang=\"pt-br\">\n",
    "<head>\n",
    "    <meta charset=\"UTF-8\">\n",
    "    <meta name=\"viewport\" content=\"width=device-width, initial-scale=1.0\">\n",
    "    <title>Scraping</title>\n",
    "</head>\n",
    "<body>\n",
    "    <h1>Essa é a aula de Web Scraping da ADA</h1>\n",
    "    <h6 class = \"teste\"> esse e um subtitulo</h6>\n",
    "    <p id = \"teste2\">esse é um paragrafo</p>\n",
    "    <p>esse é um outro paragrafo</p>\n",
    "\n",
    "    <ul>\n",
    "        <li>item 1</li>\n",
    "        <li>item 2</li>\n",
    "    </ul>\n",
    "\n",
    "    <ul>\n",
    "        <li>item 1</li>\n",
    "        <li>item 2</li>\n",
    "    </ul>\n",
    "    \n",
    "</body>\n",
    "</html>\"\"\"\n",
    "\n",
    "html_parsed = BeautifulSoup(html,\"html.parser\")"
   ]
  },
  {
   "cell_type": "code",
   "execution_count": 20,
   "metadata": {},
   "outputs": [
    {
     "data": {
      "text/plain": [
       "<!DOCTYPE html>\n",
       "\n",
       "<html lang=\"pt-br\">\n",
       "<head>\n",
       "<meta charset=\"utf-8\"/>\n",
       "<meta content=\"width=device-width, initial-scale=1.0\" name=\"viewport\"/>\n",
       "<title>Scraping</title>\n",
       "</head>\n",
       "<body>\n",
       "<h1>Essa é a aula de Web Scraping da ADA</h1>\n",
       "<h6 class=\"teste\"> esse e um subtitulo</h6>\n",
       "<p id=\"teste2\">esse é um paragrafo</p>\n",
       "<p>esse é um outro paragrafo</p>\n",
       "<ul>\n",
       "<li>item 1</li>\n",
       "<li>item 2</li>\n",
       "</ul>\n",
       "<ul>\n",
       "<li>item 1</li>\n",
       "<li>item 2</li>\n",
       "</ul>\n",
       "</body>\n",
       "</html>"
      ]
     },
     "execution_count": 20,
     "metadata": {},
     "output_type": "execute_result"
    }
   ],
   "source": [
    "html_parsed"
   ]
  },
  {
   "cell_type": "code",
   "execution_count": 21,
   "metadata": {},
   "outputs": [
    {
     "name": "stdout",
     "output_type": "stream",
     "text": [
      "<bound method Tag.prettify of <!DOCTYPE html>\n",
      "\n",
      "<html lang=\"pt-br\">\n",
      "<head>\n",
      "<meta charset=\"utf-8\"/>\n",
      "<meta content=\"width=device-width, initial-scale=1.0\" name=\"viewport\"/>\n",
      "<title>Scraping</title>\n",
      "</head>\n",
      "<body>\n",
      "<h1>Essa é a aula de Web Scraping da ADA</h1>\n",
      "<h6 class=\"teste\"> esse e um subtitulo</h6>\n",
      "<p id=\"teste2\">esse é um paragrafo</p>\n",
      "<p>esse é um outro paragrafo</p>\n",
      "<ul>\n",
      "<li>item 1</li>\n",
      "<li>item 2</li>\n",
      "</ul>\n",
      "<ul>\n",
      "<li>item 1</li>\n",
      "<li>item 2</li>\n",
      "</ul>\n",
      "</body>\n",
      "</html>>\n"
     ]
    }
   ],
   "source": [
    "print(html_parsed.prettify)"
   ]
  },
  {
   "cell_type": "code",
   "execution_count": 16,
   "metadata": {},
   "outputs": [
    {
     "data": {
      "text/plain": [
       "<p>esse é um paragrafo</p>"
      ]
     },
     "execution_count": 16,
     "metadata": {},
     "output_type": "execute_result"
    }
   ],
   "source": [
    "html_parsed.find(\"p\")"
   ]
  },
  {
   "cell_type": "code",
   "execution_count": 17,
   "metadata": {},
   "outputs": [
    {
     "data": {
      "text/plain": [
       "[<p>esse é um paragrafo</p>, <p>esse é um outro paragrafo</p>]"
      ]
     },
     "execution_count": 17,
     "metadata": {},
     "output_type": "execute_result"
    }
   ],
   "source": [
    "html_parsed.find_all(\"p\")"
   ]
  },
  {
   "cell_type": "code",
   "execution_count": 18,
   "metadata": {},
   "outputs": [
    {
     "data": {
      "text/plain": [
       "<h6 class=\"teste\"> esse e um subtitulo</h6>"
      ]
     },
     "execution_count": 18,
     "metadata": {},
     "output_type": "execute_result"
    }
   ],
   "source": [
    "html_parsed.find(class_ = \"teste\")"
   ]
  },
  {
   "cell_type": "code",
   "execution_count": 22,
   "metadata": {},
   "outputs": [
    {
     "data": {
      "text/plain": [
       "<p id=\"teste2\">esse é um paragrafo</p>"
      ]
     },
     "execution_count": 22,
     "metadata": {},
     "output_type": "execute_result"
    }
   ],
   "source": [
    "html_parsed.find(id = \"teste2\")"
   ]
  }
 ],
 "metadata": {
  "kernelspec": {
   "display_name": "Python 3",
   "language": "python",
   "name": "python3"
  },
  "language_info": {
   "codemirror_mode": {
    "name": "ipython",
    "version": 3
   },
   "file_extension": ".py",
   "mimetype": "text/x-python",
   "name": "python",
   "nbconvert_exporter": "python",
   "pygments_lexer": "ipython3",
   "version": "3.11.1"
  }
 },
 "nbformat": 4,
 "nbformat_minor": 2
}
